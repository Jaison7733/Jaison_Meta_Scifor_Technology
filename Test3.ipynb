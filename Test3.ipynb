{
  "nbformat": 4,
  "nbformat_minor": 0,
  "metadata": {
    "colab": {
      "provenance": [],
      "authorship_tag": "ABX9TyP0DskC5uIyR2QACgM8Fkp6",
      "include_colab_link": true
    },
    "kernelspec": {
      "name": "python3",
      "display_name": "Python 3"
    },
    "language_info": {
      "name": "python"
    }
  },
  "cells": [
    {
      "cell_type": "markdown",
      "metadata": {
        "id": "view-in-github",
        "colab_type": "text"
      },
      "source": [
        "<a href=\"https://colab.research.google.com/github/Jaison7733/Jaison_Meta_Scifor_Technology/blob/main/Test3.ipynb\" target=\"_parent\"><img src=\"https://colab.research.google.com/assets/colab-badge.svg\" alt=\"Open In Colab\"/></a>"
      ]
    },
    {
      "cell_type": "markdown",
      "source": [
        "# Python"
      ],
      "metadata": {
        "id": "q9kPCOP3z20f"
      }
    },
    {
      "cell_type": "markdown",
      "source": [
        "1.Explain the difference between lists and tuples in Python. Why might you choose one over the other?\n",
        "\n",
        "Lists and tuples are both fundamental data structures in Python. But they are a bit different from each other.\n",
        "\n",
        "Lists are ordered, mutable collection of items, where as tuples are ordered immutable collection of items. Lists are defined using aquared brackets, where as tuples are defined using parenthesis.\n",
        "\n",
        "Lists are used where we want to edit the data afterwards, while tuples are used in cases where we want the data to be unchanged."
      ],
      "metadata": {
        "id": "zJAKsONgm4ud"
      }
    },
    {
      "cell_type": "code",
      "source": [
        "#Lists can be modified\n",
        "list1=[1,2,3]\n",
        "list1[2]=6\n",
        "print(list1)"
      ],
      "metadata": {
        "colab": {
          "base_uri": "https://localhost:8080/"
        },
        "id": "11vOeXFGpFkc",
        "outputId": "a332d84e-d8ca-46fd-d916-3e44decc5804"
      },
      "execution_count": 5,
      "outputs": [
        {
          "output_type": "stream",
          "name": "stdout",
          "text": [
            "[1, 2, 6]\n"
          ]
        }
      ]
    },
    {
      "cell_type": "code",
      "source": [
        "#Tuples cannot be modified\n",
        "tup1=(1,2,3)\n",
        "tup1[2]=6\n",
        "print(tup1)\n",
        "#This will be an error"
      ],
      "metadata": {
        "colab": {
          "base_uri": "https://localhost:8080/",
          "height": 106
        },
        "id": "xWeoRFeppLlg",
        "outputId": "b6ee1908-9618-471f-fe5b-f5c97a4bac2a"
      },
      "execution_count": 7,
      "outputs": [
        {
          "output_type": "error",
          "ename": "SyntaxError",
          "evalue": "cannot assign to function call here. Maybe you meant '==' instead of '='? (<ipython-input-7-27b1f2316a65>, line 3)",
          "traceback": [
            "\u001b[0;36m  File \u001b[0;32m\"<ipython-input-7-27b1f2316a65>\"\u001b[0;36m, line \u001b[0;32m3\u001b[0m\n\u001b[0;31m    tup1(2)=6\u001b[0m\n\u001b[0m    ^\u001b[0m\n\u001b[0;31mSyntaxError\u001b[0m\u001b[0;31m:\u001b[0m cannot assign to function call here. Maybe you meant '==' instead of '='?\n"
          ]
        }
      ]
    },
    {
      "cell_type": "markdown",
      "source": [
        "2.Write a function that takes a list of integers and returns a new list with only the even numbers.\n"
      ],
      "metadata": {
        "id": "wJlrhypkp5gF"
      }
    },
    {
      "cell_type": "code",
      "source": [
        "def only_even(*args):\n",
        "  even=[]\n",
        "  for i in args:\n",
        "    if i%2==0:\n",
        "      even.append(i)\n",
        "  return(even)\n",
        "\n",
        "mylist=[3,4,5,6,7,8,9]\n",
        "only_even(*mylist)"
      ],
      "metadata": {
        "colab": {
          "base_uri": "https://localhost:8080/"
        },
        "id": "8DILJVx1quMI",
        "outputId": "15cb3652-992a-401a-a9b5-895e675d6d0a"
      },
      "execution_count": 10,
      "outputs": [
        {
          "output_type": "execute_result",
          "data": {
            "text/plain": [
              "[4, 6, 8]"
            ]
          },
          "metadata": {},
          "execution_count": 10
        }
      ]
    },
    {
      "cell_type": "markdown",
      "source": [
        "3.Describe how Python’s garbage collection works. What are the main methods it uses to manage memory?"
      ],
      "metadata": {
        "id": "SroHmhl2q8dm"
      }
    },
    {
      "cell_type": "markdown",
      "source": [
        "Python's memory management is primarily handled by a garbage collector. Python uses two techniques. Reference counting and generational garbage collection.\n",
        "\n",
        "In reference counting each object in Python has a reference count, which is incremented whenever a new reference is assigned to it and decremented when a reference is removed. When the reference count of an object reaches zero, it's considered garbage and is immediately deallocated.\n",
        "\n",
        "However, reference counting alone cannot handle cyclic references, where two or more objects refer to each other directly or indirectly. To address this, Python employs generational garbage collection. Objects are categorized into generations based on their age. New objects are placed in the youngest generation, and objects that survive multiple garbage collection cycles are moved to older generations. Younger generations are collected more frequently, while older generations are collected less often.\n",
        "\n",
        "By combining reference counting and generational garbage collection, Python's memory management system effectively prevents memory leaks and ensures optimal resource utilization."
      ],
      "metadata": {
        "id": "Uh5pTlXDskPq"
      }
    },
    {
      "cell_type": "markdown",
      "source": [
        "4.Given a dictionary where keys are student names and values are lists of their scores, write a function that returns the average score for each student.\n"
      ],
      "metadata": {
        "id": "L19RVA_suIYz"
      }
    },
    {
      "cell_type": "code",
      "source": [
        "def avg_scores(scores):\n",
        "  avg={}\n",
        "  for name,score in scores.items():\n",
        "    avg[name]=sum(score)/len(scores)\n",
        "  return(avg)\n",
        "\n",
        "student_scores = {\n",
        "    'Arjun': [85, 90, 78],\n",
        "    'Rohan': [72, 88, 91, 85],\n",
        "    'Rahul': [95, 100],\n",
        "    'Vishnu': [45,78,99,56,66]\n",
        "}\n",
        "\n",
        "print(avg_scores(student_scores))"
      ],
      "metadata": {
        "colab": {
          "base_uri": "https://localhost:8080/"
        },
        "id": "QXQYpX0Awuwa",
        "outputId": "b5b219cb-f1a2-4ec9-b4af-57a1861a922b"
      },
      "execution_count": 12,
      "outputs": [
        {
          "output_type": "stream",
          "name": "stdout",
          "text": [
            "{'Arjun': 63.25, 'Rohan': 84.0, 'Rahul': 48.75, 'Vishnu': 86.0}\n"
          ]
        }
      ]
    },
    {
      "cell_type": "markdown",
      "source": [
        "5.What are \\*args and \\**kwargs in Python functions, and how are they used?"
      ],
      "metadata": {
        "id": "Gkn3F-dPxnhA"
      }
    },
    {
      "cell_type": "markdown",
      "source": [
        "In Python, \\*args and \\**kwargs are special syntax used in function definitions to allow for flexible numbers of arguments. They enable a function to accept more arguments than specified when defining it, which is useful in cases where you don’t know in advance how many inputs will be provided.\n",
        "\n",
        "*args:\n",
        "*args allows a function to accept any number of positional arguments. Inside the function, *args is treated as a tuple of all the extra positional arguments passed."
      ],
      "metadata": {
        "id": "J4_rAhycxpDq"
      }
    },
    {
      "cell_type": "code",
      "source": [
        "def my_function(*args):\n",
        "  for arg in args:\n",
        "    print(arg)\n",
        "\n",
        "my_function(1, 2, 3, \"Hi\",\"there\")"
      ],
      "metadata": {
        "colab": {
          "base_uri": "https://localhost:8080/"
        },
        "id": "PV4aNBiayXvf",
        "outputId": "eba3965d-2517-4359-d540-5163da03fdf9"
      },
      "execution_count": 19,
      "outputs": [
        {
          "output_type": "stream",
          "name": "stdout",
          "text": [
            "1\n",
            "2\n",
            "3\n",
            "Hi\n",
            "there\n"
          ]
        }
      ]
    },
    {
      "cell_type": "markdown",
      "source": [
        "\\*\\*kwargs:\n",
        "\n",
        "\\*\\*kwargs allows a function to accept any number of keyword arguments (arguments passed as key-value pairs). Inside the function, \\**kwargs is treated as a dictionary of all the extra keyword arguments.\n",
        "\n"
      ],
      "metadata": {
        "id": "Q5ZD1QZaytvm"
      }
    },
    {
      "cell_type": "code",
      "source": [
        "def my_function(**kwargs):\n",
        "  for key, value in kwargs.items():\n",
        "    print(key,\":\",value)\n",
        "\n",
        "student_scores = {\n",
        "    'Arjun': [85, 90, 78],\n",
        "    'Rohan': [72, 88, 91, 85],\n",
        "    'Rahul': [95, 100],\n",
        "    'Vishnu': [45,78,99,56,66]\n",
        "}\n",
        "my_function(**student_scores)"
      ],
      "metadata": {
        "colab": {
          "base_uri": "https://localhost:8080/"
        },
        "id": "b3VbqiNAzOOh",
        "outputId": "629e9554-50cc-4ce8-85c4-9c0969f06832"
      },
      "execution_count": 22,
      "outputs": [
        {
          "output_type": "stream",
          "name": "stdout",
          "text": [
            "Arjun : [85, 90, 78]\n",
            "Rohan : [72, 88, 91, 85]\n",
            "Rahul : [95, 100]\n",
            "Vishnu : [45, 78, 99, 56, 66]\n"
          ]
        }
      ]
    },
    {
      "cell_type": "markdown",
      "source": [
        "# Streamlit"
      ],
      "metadata": {
        "id": "0ctIS1dWynxI"
      }
    },
    {
      "cell_type": "markdown",
      "source": [
        "1.Explain how Streamlit’s st.cache works and why it is useful. When should you avoid using it?"
      ],
      "metadata": {
        "id": "FEBm0Itf0CQy"
      }
    },
    {
      "cell_type": "markdown",
      "source": [
        "Streamlit's st.cache is a powerful tool that can significantly enhances performance\n",
        "\n",
        ". It functions by caching the results of a function call, thereby avoiding redundant computations for subsequent calls with identical input arguments. This caching mechanism not only speeds up the execution time but also reduces the load on your server, resulting in a smoother and more efficient user experience.\n",
        "\n",
        "The decorator @st.cache is applied to a function, and the first time the function is invoked, its output is stored in the cache along with the input arguments. For subsequent calls with the same arguments, Streamlit directly retrieves the cached result, bypassing the need for re-execution.\n",
        "\n",
        "While st.cache is a valuable tool, it's essential to use it carefully. It's best suited for functions that are computationally expensive or rely on data that doesn't change frequently. Avoid using it for functions that have side effects or produce results that should be dynamic and up-to-date."
      ],
      "metadata": {
        "id": "Mp_FxLxl3oyM"
      }
    },
    {
      "cell_type": "markdown",
      "source": [
        "2.Write a simple Streamlit app that takes a user’s name as input and displays a personalized greeting message."
      ],
      "metadata": {
        "id": "Rljh8o2J4MZ3"
      }
    },
    {
      "cell_type": "code",
      "source": [
        "import streamlit as st\n",
        "\n",
        "st.header(\"An app that takes a user’s name as input and displays a personalized greeting message.\")\n",
        "name=st.text_input(\"Enter your name:\")\n",
        "st.write(f\"Hello {name}! Good to see you.\")"
      ],
      "metadata": {
        "id": "CVQP-RP26u0N"
      },
      "execution_count": null,
      "outputs": []
    },
    {
      "cell_type": "markdown",
      "source": [
        "3.Describe the st.sidebar component in Streamlit. How does it improve user experience in Streamlit applications?"
      ],
      "metadata": {
        "id": "Ct9Yhi036xta"
      }
    },
    {
      "cell_type": "markdown",
      "source": [
        "The st.sidebar component in Streamlit is a versatile tool for enhancing the user experience of your web applications. By organizing controls and settings into a separate panel, it helps declutter the main content area, making it easier for users to focus on the primary information.\n",
        "\n",
        "Sidebars provide a clear and intuitive way to navigate through different sections of your app. You can use various widgets like st.radio, st.selectbox, and st.button within the sidebar to allow users to switch between different views or modes. This consistent navigation experience is familiar to users from other websites and apps, making your Streamlit app feel more intuitive and professional.\n",
        "\n",
        "By placing important controls and settings in the sidebar, you empower users to customize their experience and explore different options without cluttering the main content area. This efficient use of screen space maximizes the visibility of the primary content, improving the overall user experience.\n"
      ],
      "metadata": {
        "id": "HYZIHMXf7iZg"
      }
    },
    {
      "cell_type": "markdown",
      "source": [
        "4.Create a Streamlit app that displays a line chart of random data. Allow the user to select the number of data points they want in the chart using a slider."
      ],
      "metadata": {
        "id": "PoNIEkdv7pOE"
      }
    },
    {
      "cell_type": "markdown",
      "source": [
        "https://jaisonphiliptest3.streamlit.app/"
      ],
      "metadata": {
        "id": "SlkOBksl7sXV"
      }
    }
  ]
}