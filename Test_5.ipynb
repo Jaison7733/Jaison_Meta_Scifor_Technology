{
  "nbformat": 4,
  "nbformat_minor": 0,
  "metadata": {
    "colab": {
      "provenance": [],
      "authorship_tag": "ABX9TyNxl5aVSQ7bjhanhCd/MpPj",
      "include_colab_link": true
    },
    "kernelspec": {
      "name": "python3",
      "display_name": "Python 3"
    },
    "language_info": {
      "name": "python"
    }
  },
  "cells": [
    {
      "cell_type": "markdown",
      "metadata": {
        "id": "view-in-github",
        "colab_type": "text"
      },
      "source": [
        "<a href=\"https://colab.research.google.com/github/Jaison7733/Jaison_Meta_Scifor_Technology/blob/main/Test_5.ipynb\" target=\"_parent\"><img src=\"https://colab.research.google.com/assets/colab-badge.svg\" alt=\"Open In Colab\"/></a>"
      ]
    },
    {
      "cell_type": "markdown",
      "source": [
        "1"
      ],
      "metadata": {
        "id": "JiPenPDseKiB"
      }
    },
    {
      "cell_type": "code",
      "source": [
        "import spacy\n",
        "\n",
        "# Load the English language model\n",
        "nlp = spacy.load(\"en_core_web_sm\")\n",
        "\n",
        "# Example text\n",
        "text = \"Apple is looking at buying U.K. startup for $1 billion\"\n",
        "\n",
        "# Process the text\n",
        "doc = nlp(text)\n",
        "\n",
        "# Tokenization\n",
        "for token in doc:\n",
        "    print(token.text, token.pos_, token.dep_)\n",
        "\n",
        "# Named Entity Recognition (NER)\n",
        "for entity in doc.ents:\n",
        "    print(entity.text, entity.label_)\n",
        "\n",
        "# Dependency Parsing\n",
        "for token in doc:\n",
        "    print(token.text, token.dep_, token.head.text)\n",
        "\n",
        "# Lemmatization\n",
        "for token in doc:\n",
        "    print(token.text, token.lemma_)\n",
        "\n",
        "# Part-of-Speech Tagging\n",
        "for token in doc:\n",
        "    print(token.text, token.pos_)\n",
        "\n",
        "# Sentence Segmentation\n",
        "for sent in doc.sents:\n",
        "    print(sent.text)"
      ],
      "metadata": {
        "id": "Mt0w9mahdrFt",
        "colab": {
          "base_uri": "https://localhost:8080/"
        },
        "outputId": "5523e642-9799-4203-a082-2b3de9d6128c"
      },
      "execution_count": 1,
      "outputs": [
        {
          "output_type": "stream",
          "name": "stdout",
          "text": [
            "Apple PROPN nsubj\n",
            "is AUX aux\n",
            "looking VERB ROOT\n",
            "at ADP prep\n",
            "buying VERB pcomp\n",
            "U.K. PROPN dobj\n",
            "startup NOUN dep\n",
            "for ADP prep\n",
            "$ SYM quantmod\n",
            "1 NUM compound\n",
            "billion NUM pobj\n",
            "Apple ORG\n",
            "U.K. GPE\n",
            "$1 billion MONEY\n",
            "Apple nsubj looking\n",
            "is aux looking\n",
            "looking ROOT looking\n",
            "at prep looking\n",
            "buying pcomp at\n",
            "U.K. dobj buying\n",
            "startup dep looking\n",
            "for prep startup\n",
            "$ quantmod billion\n",
            "1 compound billion\n",
            "billion pobj for\n",
            "Apple Apple\n",
            "is be\n",
            "looking look\n",
            "at at\n",
            "buying buy\n",
            "U.K. U.K.\n",
            "startup startup\n",
            "for for\n",
            "$ $\n",
            "1 1\n",
            "billion billion\n",
            "Apple PROPN\n",
            "is AUX\n",
            "looking VERB\n",
            "at ADP\n",
            "buying VERB\n",
            "U.K. PROPN\n",
            "startup NOUN\n",
            "for ADP\n",
            "$ SYM\n",
            "1 NUM\n",
            "billion NUM\n",
            "Apple is looking at buying U.K. startup for $1 billion\n"
          ]
        }
      ]
    },
    {
      "cell_type": "markdown",
      "source": [
        "2"
      ],
      "metadata": {
        "id": "hXy6lHlodh7w"
      }
    },
    {
      "cell_type": "code",
      "execution_count": 2,
      "metadata": {
        "id": "je-0ItfcdAG4",
        "colab": {
          "base_uri": "https://localhost:8080/"
        },
        "outputId": "38927892-5a37-4ec7-e388-f9c5b58afa0b"
      },
      "outputs": [
        {
          "output_type": "stream",
          "name": "stdout",
          "text": [
            "Apple PROPN nsubj\n",
            "is AUX aux\n",
            "looking VERB ROOT\n",
            "at ADP prep\n",
            "buying VERB pcomp\n",
            "U.K. PROPN dobj\n",
            "startup NOUN dep\n",
            "for ADP prep\n",
            "$ SYM quantmod\n",
            "1 NUM compound\n",
            "billion NUM pobj\n",
            "Apple ORG\n",
            "U.K. GPE\n",
            "$1 billion MONEY\n",
            "Apple nsubj looking\n",
            "is aux looking\n",
            "looking ROOT looking\n",
            "at prep looking\n",
            "buying pcomp at\n",
            "U.K. dobj buying\n",
            "startup dep looking\n",
            "for prep startup\n",
            "$ quantmod billion\n",
            "1 compound billion\n",
            "billion pobj for\n"
          ]
        }
      ],
      "source": [
        "import spacy\n",
        "\n",
        "# Load the English language model (replace 'en_core_web_sm' with a larger model if needed)\n",
        "nlp = spacy.load(\"en_core_web_sm\")\n",
        "\n",
        "# Example text\n",
        "text = \"Apple is looking at buying U.K. startup for $1 billion\"\n",
        "\n",
        "# Process the text with the loaded model\n",
        "doc = nlp(text)\n",
        "\n",
        "# Tokenization\n",
        "for token in doc:\n",
        "    print(token.text, token.pos_, token.dep_)\n",
        "\n",
        "# Named Entity Recognition (NER)\n",
        "for entity in doc.ents:\n",
        "    print(entity.text, entity.label_)\n",
        "\n",
        "# Dependency Parsing\n",
        "for token in doc:\n",
        "    print(token.text, token.dep_, token.head.text)\n",
        "\n",
        "# Customize further using spaCy's features\n",
        "# For example, lemmatization, part-of-speech tagging, etc."
      ]
    },
    {
      "cell_type": "markdown",
      "source": [
        "| Feature | Descriptive Statistics | Inferential Statistics |\n",
        "|---|---|---|\n",
        "| **Purpose** | To describe the characteristics of a dataset | To make inferences or predictions about a population |\n",
        "| **Focus** | Summarizing and organizing data | Drawing conclusions |\n",
        "| **Data** | Entire population or sample | Sample |\n",
        "| **Techniques** | Measures of central tendency, dispersion, frequency distributions, graphical representations | Hypothesis testing, confidence intervals, regression analysis, correlation analysis |\n",
        "| **Goal** | To provide a clear and concise summary of the data | To generalize findings from the sample to the population |\n",
        "| **Inference** | No inference | Makes inferences |\n",
        "| **Scope** | Limited to the sample or population being studied | Extends beyond the sample to the entire population |\n",
        "| **Methods** | Primarily involves calculations and visualizations | Involves probability theory and statistical tests |\n",
        "| **Conclusion** | Provides a description of the data | Makes claims about the population with a certain level of confidence |\n",
        "| **Examples** | Calculating the average height of students in a class, creating a pie chart to show the distribution of favorite colors | Testing whether a new drug is effective compared to an old one, predicting future sales based on past data |\n",
        "| **Hypothesis Testing** | Not applicable | Uses statistical tests to determine if observed differences between groups are statistically significant |\n",
        "| **Confidence Intervals** | Not applicable | Estimates a range of values within which the true population parameter likely lies |\n",
        "| **Regression Analysis** | Not applicable | Models the relationship between variables to make predictions or understand causal relationships |\n",
        "| **Correlation Analysis** | Not applicable | Measures the strength and direction of the relationship between two variables |\n",
        "| **Probability** | Not a primary focus | Uses probability theory to assess the likelihood of events and make informed decisions |\n"
      ],
      "metadata": {
        "id": "0uz9jHbqeNmm"
      }
    },
    {
      "cell_type": "markdown",
      "source": [],
      "metadata": {
        "id": "P07etUqhdhK6"
      }
    }
  ]
}