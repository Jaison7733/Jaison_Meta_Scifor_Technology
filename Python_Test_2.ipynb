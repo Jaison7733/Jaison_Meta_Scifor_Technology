{
  "nbformat": 4,
  "nbformat_minor": 0,
  "metadata": {
    "colab": {
      "provenance": [],
      "authorship_tag": "ABX9TyOfqqnwv2nZtICewJAb6esH",
      "include_colab_link": true
    },
    "kernelspec": {
      "name": "python3",
      "display_name": "Python 3"
    },
    "language_info": {
      "name": "python"
    }
  },
  "cells": [
    {
      "cell_type": "markdown",
      "metadata": {
        "id": "view-in-github",
        "colab_type": "text"
      },
      "source": [
        "<a href=\"https://colab.research.google.com/github/Jaison7733/Jaison_Meta_Scifor_Technology/blob/main/Python_Test_2.ipynb\" target=\"_parent\"><img src=\"https://colab.research.google.com/assets/colab-badge.svg\" alt=\"Open In Colab\"/></a>"
      ]
    },
    {
      "cell_type": "code",
      "execution_count": null,
      "metadata": {
        "id": "KhvEqmrJMq4h"
      },
      "outputs": [],
      "source": []
    },
    {
      "cell_type": "markdown",
      "source": [
        "1. What are decorators in python? Provide a code of same.\n",
        "\n",
        "Decorators are a feature in Python that allow us to modify the behavior of functions or classes without directly changing their source code. They provide a way to wrap a function or class with additional functionality, such as logging, timing, authorization, or caching.\n",
        "\n",
        "**Components of a decorator.**\n",
        "\n",
        "i) Function Definition: You define a decorator function that takes another function as an argument.\n",
        "\n",
        "ii) Decorator Application: You apply the decorator to a function using the @decorator_name syntax.\n",
        "\n",
        "\n",
        "iii) Decorator Execution: When the decorated function is called, the decorator function is executed first.\n",
        "\n",
        "\n",
        "vi)Original Function Execution: The original function is then executed.\n",
        "\n",
        "\n",
        "v)Result Return: The result of the original function is returned.\n"
      ],
      "metadata": {
        "id": "K-Y6LeSSNLGg"
      }
    },
    {
      "cell_type": "code",
      "source": [
        "def my_decorator(func):\n",
        "    def wrapper(*args, **kwargs):\n",
        "        print(\"Before function call\")\n",
        "        result = func(*args, **kwargs)\n",
        "        print(\"After function call\")\n",
        "        return result\n",
        "    return wrapper\n",
        "\n",
        "@my_decorator\n",
        "def my_function(x, y):\n",
        "    print(f\"The sum is: {x + y}\")\n",
        "\n",
        "my_function(2, 3)"
      ],
      "metadata": {
        "colab": {
          "base_uri": "https://localhost:8080/"
        },
        "id": "KOYpslU8OglF",
        "outputId": "edb4d765-c5f4-4c6f-8bb1-8f3f42516aa4"
      },
      "execution_count": null,
      "outputs": [
        {
          "output_type": "stream",
          "name": "stdout",
          "text": [
            "Before function call\n",
            "The sum is: 5\n",
            "After function call\n"
          ]
        }
      ]
    },
    {
      "cell_type": "markdown",
      "source": [
        "2. What do you understand by method overriding and method overloading? Give the complete implementation.\n",
        "\n",
        "Method overriding is the process of redefining a method in a subclass that has the same name as the method in its parent class. It is used to provide a specific implementationof a method in the subclass which is tailored to its specific needs."
      ],
      "metadata": {
        "id": "zFOPswPcPsc8"
      }
    },
    {
      "cell_type": "code",
      "source": [
        "class Animal:\n",
        "    def make_sound(self):\n",
        "        print(\"Generic animal sound\")\n",
        "\n",
        "class Dog(Animal):\n",
        "    def make_sound(self):\n",
        "        print(\"Woof!\")\n",
        "\n",
        "class Cat(Animal):\n",
        "    def make_sound(self):\n",
        "        print(\"Meow!\")\n",
        "\n",
        "# Creating objects\n",
        "animal = Animal()\n",
        "dog = Dog()\n",
        "cat = Cat()\n",
        "\n",
        "# Calling the make_sound method on different objects\n",
        "animal.make_sound()\n",
        "dog.make_sound()\n",
        "cat.make_sound()"
      ],
      "metadata": {
        "colab": {
          "base_uri": "https://localhost:8080/"
        },
        "id": "_ZHYRLY5QW2E",
        "outputId": "68a2b6dc-b121-419c-e33e-c5b96752a47d"
      },
      "execution_count": null,
      "outputs": [
        {
          "output_type": "stream",
          "name": "stdout",
          "text": [
            "Generic animal sound\n",
            "Woof!\n",
            "Meow!\n"
          ]
        }
      ]
    },
    {
      "cell_type": "markdown",
      "source": [
        "Method Overloading is the process of defining muultiple methods with the same name but with different parameters within the same class. It is used to provide different implementation of the same method based on different inputs."
      ],
      "metadata": {
        "id": "3wug9EY1Qt5g"
      }
    },
    {
      "cell_type": "code",
      "source": [
        "class Calculator:\n",
        "    def add_two_numbers(self, a, b):\n",
        "        return a + b\n",
        "\n",
        "    def add_three_numbers(self, a, b, c):\n",
        "        return a + b + c\n",
        "\n",
        "calc1=Calculator()\n",
        "print(calc1.add_two_numbers(2,3))\n",
        "print(calc1.add_three_numbers(2,3,4))"
      ],
      "metadata": {
        "colab": {
          "base_uri": "https://localhost:8080/"
        },
        "id": "4ZlOLH5lRPHX",
        "outputId": "9322da08-774b-48a3-cfd1-a372a51125c4"
      },
      "execution_count": null,
      "outputs": [
        {
          "output_type": "stream",
          "name": "stdout",
          "text": [
            "5\n",
            "9\n"
          ]
        }
      ]
    },
    {
      "cell_type": "markdown",
      "source": [
        "3. Code for hybrid inheritance."
      ],
      "metadata": {
        "id": "e3kfTtbeRiA4"
      }
    },
    {
      "cell_type": "code",
      "source": [
        "#Base Class 1\n",
        "class Vehicle:\n",
        "    def __init__(self, brand):\n",
        "        self.brand = brand\n",
        "\n",
        "    def start(self):\n",
        "        print(f\"Starting {self.brand} vehicle\")\n",
        "\n",
        "#Base Class 2\n",
        "class Electric:\n",
        "    def charge(self):\n",
        "        print(\"Charging electric vehicle\")\n",
        "\n",
        "#Derived Class first level\n",
        "class Car(Vehicle):\n",
        "    def __init__(self, brand, model):\n",
        "        super().__init__(brand)\n",
        "        self.model = model\n",
        "\n",
        "    def drive(self):\n",
        "        print(f\"Driving {self.brand} {self.model}\")\n",
        "\n",
        "\n",
        "#Derived Class second level\n",
        "class ElectricCar(Car, Electric):\n",
        "    def __init__(self, brand, model):\n",
        "        super().__init__(brand, model)\n",
        "\n",
        "# Creating an ElectricCar object\n",
        "electric_car = ElectricCar(\"Tesla\", \"Model 3\")\n",
        "\n",
        "# Accessing methods from different parent classes\n",
        "electric_car.start()\n",
        "electric_car.drive()\n",
        "electric_car.charge()"
      ],
      "metadata": {
        "colab": {
          "base_uri": "https://localhost:8080/"
        },
        "id": "RliLLNsPRyI0",
        "outputId": "d49bac90-6418-4d3f-a26b-ebce2bb15229"
      },
      "execution_count": null,
      "outputs": [
        {
          "output_type": "stream",
          "name": "stdout",
          "text": [
            "Starting Tesla vehicle\n",
            "Driving Tesla Model 3\n",
            "Charging electric vehicle\n"
          ]
        }
      ]
    },
    {
      "cell_type": "markdown",
      "source": [
        "5. Explain any 3 widgets in Streamlit\n",
        "\n",
        "Widgets are interective elements that allows the user to input data or control the behaviour the app. The are important for creating a dynamic and engagin user interface.\n",
        "\n",
        "1. st.slider(): For selecting a value from a range.\n",
        "2. st.selectbox(): For selecting a single option from a list\n",
        "3. st.checkbox(): For a simple on/off toggle.\n"
      ],
      "metadata": {
        "id": "YAAU-Dz0TCdq"
      }
    },
    {
      "cell_type": "markdown",
      "source": [
        "\n",
        "7. How will you run any file in Streamlit\n",
        "\n",
        "In the terminal run the code\n",
        "streamlit run <filename.py>"
      ],
      "metadata": {
        "id": "3tnPj1aLWDKV"
      }
    },
    {
      "cell_type": "markdown",
      "source": [
        "8 Plot graph such as bar chart, pie chart"
      ],
      "metadata": {
        "id": "QxjtmG6_WPqA"
      }
    },
    {
      "cell_type": "code",
      "source": [
        "#For bargraph\n",
        "\n",
        "import streamlit as st\n",
        "import matplotlib.pyplot as plt\n",
        "import numpy as np\n",
        "\n",
        "plt.switch_backend('TkAgg')\n",
        "\n",
        "x=np.arange(7)\n",
        "y=[6,3,9,2,6,8,4]\n",
        "\n",
        "plt.bar(x,y)\n",
        "st.pyplot(plt)\n",
        "\n",
        "\n",
        "#Run this code using below mentiond code in the terminal\n",
        "#streamlit run <filename.py>"
      ],
      "metadata": {
        "id": "3v6HB-33Y8Fm"
      },
      "execution_count": null,
      "outputs": []
    },
    {
      "cell_type": "code",
      "source": [
        "#For piechart\n",
        "import streamlit as st\n",
        "import matplotlib.pyplot as plt\n",
        "import numpy as np\n",
        "\n",
        "\n",
        "plt.switch_backend('TkAgg')\n",
        "\n",
        "labels = ['A', 'B', 'C', 'D', 'E']\n",
        "sizes = [15, 30, 45, 10, 20]\n",
        "\n",
        "plt.pie(sizes,labels=labels)\n",
        "\n",
        "st.pyplot(plt)\n",
        "\n",
        "#Run this code using below mentiond code in the terminal\n",
        "#streamlit run <filename.py>"
      ],
      "metadata": {
        "id": "1VBb6CIYZcK6"
      },
      "execution_count": null,
      "outputs": []
    }
  ]
}